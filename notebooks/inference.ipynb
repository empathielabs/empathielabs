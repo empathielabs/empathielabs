{
 "cells": [
  {
   "cell_type": "code",
   "execution_count": 1,
   "id": "a1489d8e-8480-47a5-bdf7-e3ed09d77fa3",
   "metadata": {},
   "outputs": [],
   "source": [
    "import vllm\n",
    "from vllm.entrypoints.openai.cli_args import make_arg_parser"
   ]
  },
  {
   "cell_type": "code",
   "execution_count": 7,
   "id": "1dacf8f7-22bc-43c5-98df-361a383f6694",
   "metadata": {},
   "outputs": [
    {
     "data": {
      "text/plain": [
       "ArgumentParser(prog='ipykernel_launcher.py', usage=None, description='vLLM OpenAI-Compatible RESTful API server.', formatter_class=<class 'argparse.HelpFormatter'>, conflict_handler='error', add_help=True)"
      ]
     },
     "execution_count": 7,
     "metadata": {},
     "output_type": "execute_result"
    }
   ],
   "source": [
    "parser = make_arg_parser()\n",
    "\n",
    "parser"
   ]
  },
  {
   "cell_type": "code",
   "execution_count": 1,
   "id": "aff91fa7-f2e3-467c-b0df-0081ee7f32cb",
   "metadata": {},
   "outputs": [
    {
     "data": {
      "text/plain": [
       "{'__name__': '__main__',\n",
       " '__doc__': 'Automatically created module for IPython interactive environment',\n",
       " '__package__': None,\n",
       " '__loader__': None,\n",
       " '__spec__': None,\n",
       " '__builtin__': <module 'builtins' (built-in)>,\n",
       " '__builtins__': <module 'builtins' (built-in)>,\n",
       " '_ih': ['', 'locals()'],\n",
       " '_oh': {},\n",
       " '_dh': [PosixPath('/home/carson/Desktop/Projects/empathielabs/notebooks')],\n",
       " 'In': ['', 'locals()'],\n",
       " 'Out': {},\n",
       " 'get_ipython': <bound method InteractiveShell.get_ipython of <ipykernel.zmqshell.ZMQInteractiveShell object at 0x7f9b557ed550>>,\n",
       " 'exit': <IPython.core.autocall.ZMQExitAutocall at 0x7f9b54e020d0>,\n",
       " 'quit': <IPython.core.autocall.ZMQExitAutocall at 0x7f9b54e020d0>,\n",
       " 'open': <function io.open(file, mode='r', buffering=-1, encoding=None, errors=None, newline=None, closefd=True, opener=None)>,\n",
       " '_': '',\n",
       " '__': '',\n",
       " '___': '',\n",
       " '__session__': '/home/carson/Desktop/Projects/empathielabs/notebooks/inference.ipynb',\n",
       " '_i': '',\n",
       " '_ii': '',\n",
       " '_iii': '',\n",
       " '_i1': 'locals()'}"
      ]
     },
     "execution_count": 1,
     "metadata": {},
     "output_type": "execute_result"
    }
   ],
   "source": [
    "locals()"
   ]
  },
  {
   "cell_type": "code",
   "execution_count": null,
   "id": "527e63a9-28a3-49f2-b139-0c5e063d13de",
   "metadata": {},
   "outputs": [],
   "source": []
  }
 ],
 "metadata": {
  "kernelspec": {
   "display_name": "Python 3 (ipykernel)",
   "language": "python",
   "name": "python3"
  },
  "language_info": {
   "codemirror_mode": {
    "name": "ipython",
    "version": 3
   },
   "file_extension": ".py",
   "mimetype": "text/x-python",
   "name": "python",
   "nbconvert_exporter": "python",
   "pygments_lexer": "ipython3",
   "version": "3.11.4"
  }
 },
 "nbformat": 4,
 "nbformat_minor": 5
}
