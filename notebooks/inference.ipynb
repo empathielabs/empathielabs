{
 "cells": [
  {
   "cell_type": "code",
   "execution_count": 2,
   "id": "a1489d8e-8480-47a5-bdf7-e3ed09d77fa3",
   "metadata": {},
   "outputs": [],
   "source": [
    "import vllm\n",
    "from vllm.entrypoints.openai.cli_args import make_arg_parser"
   ]
  },
  {
   "cell_type": "code",
   "execution_count": 3,
   "id": "1dacf8f7-22bc-43c5-98df-361a383f6694",
   "metadata": {},
   "outputs": [
    {
     "name": "stderr",
     "output_type": "stream",
     "text": [
      "usage: ipykernel_launcher.py [-h] [--host HOST] [--port PORT]\n",
      "                             [--uvicorn-log-level {debug,info,warning,error,critical,trace}]\n",
      "                             [--allow-credentials]\n",
      "                             [--allowed-origins ALLOWED_ORIGINS]\n",
      "                             [--allowed-methods ALLOWED_METHODS]\n",
      "                             [--allowed-headers ALLOWED_HEADERS]\n",
      "                             [--api-key API_KEY]\n",
      "                             [--lora-modules LORA_MODULES [LORA_MODULES ...]]\n",
      "                             [--chat-template CHAT_TEMPLATE]\n",
      "                             [--response-role RESPONSE_ROLE]\n",
      "                             [--ssl-keyfile SSL_KEYFILE]\n",
      "                             [--ssl-certfile SSL_CERTFILE]\n",
      "                             [--ssl-ca-certs SSL_CA_CERTS]\n",
      "                             [--ssl-cert-reqs SSL_CERT_REQS]\n",
      "                             [--root-path ROOT_PATH] [--middleware MIDDLEWARE]\n",
      "                             [--model MODEL] [--tokenizer TOKENIZER]\n",
      "                             [--skip-tokenizer-init] [--revision REVISION]\n",
      "                             [--code-revision CODE_REVISION]\n",
      "                             [--tokenizer-revision TOKENIZER_REVISION]\n",
      "                             [--tokenizer-mode {auto,slow}]\n",
      "                             [--trust-remote-code]\n",
      "                             [--download-dir DOWNLOAD_DIR]\n",
      "                             [--load-format {auto,pt,safetensors,npcache,dummy,tensorizer}]\n",
      "                             [--dtype {auto,half,float16,bfloat16,float,float32}]\n",
      "                             [--kv-cache-dtype {auto,fp8,fp8_e5m2,fp8_e4m3}]\n",
      "                             [--quantization-param-path QUANTIZATION_PARAM_PATH]\n",
      "                             [--max-model-len MAX_MODEL_LEN]\n",
      "                             [--guided-decoding-backend {outlines,lm-format-enforcer}]\n",
      "                             [--distributed-executor-backend {ray,mp}]\n",
      "                             [--worker-use-ray]\n",
      "                             [--pipeline-parallel-size PIPELINE_PARALLEL_SIZE]\n",
      "                             [--tensor-parallel-size TENSOR_PARALLEL_SIZE]\n",
      "                             [--max-parallel-loading-workers MAX_PARALLEL_LOADING_WORKERS]\n",
      "                             [--ray-workers-use-nsight]\n",
      "                             [--block-size {8,16,32}]\n",
      "                             [--enable-prefix-caching]\n",
      "                             [--disable-sliding-window]\n",
      "                             [--use-v2-block-manager]\n",
      "                             [--num-lookahead-slots NUM_LOOKAHEAD_SLOTS]\n",
      "                             [--seed SEED] [--swap-space SWAP_SPACE]\n",
      "                             [--gpu-memory-utilization GPU_MEMORY_UTILIZATION]\n",
      "                             [--num-gpu-blocks-override NUM_GPU_BLOCKS_OVERRIDE]\n",
      "                             [--max-num-batched-tokens MAX_NUM_BATCHED_TOKENS]\n",
      "                             [--max-num-seqs MAX_NUM_SEQS]\n",
      "                             [--max-logprobs MAX_LOGPROBS]\n",
      "                             [--disable-log-stats]\n",
      "                             [--quantization {aqlm,awq,deepspeedfp,fp8,marlin,gptq_marlin_24,gptq_marlin,gptq,squeezellm,sparseml,None}]\n",
      "                             [--rope-scaling ROPE_SCALING] [--enforce-eager]\n",
      "                             [--max-context-len-to-capture MAX_CONTEXT_LEN_TO_CAPTURE]\n",
      "                             [--max-seq-len-to-capture MAX_SEQ_LEN_TO_CAPTURE]\n",
      "                             [--disable-custom-all-reduce]\n",
      "                             [--tokenizer-pool-size TOKENIZER_POOL_SIZE]\n",
      "                             [--tokenizer-pool-type TOKENIZER_POOL_TYPE]\n",
      "                             [--tokenizer-pool-extra-config TOKENIZER_POOL_EXTRA_CONFIG]\n",
      "                             [--enable-lora] [--max-loras MAX_LORAS]\n",
      "                             [--max-lora-rank MAX_LORA_RANK]\n",
      "                             [--lora-extra-vocab-size LORA_EXTRA_VOCAB_SIZE]\n",
      "                             [--lora-dtype {auto,float16,bfloat16,float32}]\n",
      "                             [--long-lora-scaling-factors LONG_LORA_SCALING_FACTORS]\n",
      "                             [--max-cpu-loras MAX_CPU_LORAS]\n",
      "                             [--fully-sharded-loras]\n",
      "                             [--device {auto,cuda,neuron,cpu}]\n",
      "                             [--image-input-type {pixel_values,image_features}]\n",
      "                             [--image-token-id IMAGE_TOKEN_ID]\n",
      "                             [--image-input-shape IMAGE_INPUT_SHAPE]\n",
      "                             [--image-feature-size IMAGE_FEATURE_SIZE]\n",
      "                             [--scheduler-delay-factor SCHEDULER_DELAY_FACTOR]\n",
      "                             [--enable-chunked-prefill]\n",
      "                             [--speculative-model SPECULATIVE_MODEL]\n",
      "                             [--num-speculative-tokens NUM_SPECULATIVE_TOKENS]\n",
      "                             [--speculative-max-model-len SPECULATIVE_MAX_MODEL_LEN]\n",
      "                             [--speculative-disable-by-batch-size SPECULATIVE_DISABLE_BY_BATCH_SIZE]\n",
      "                             [--ngram-prompt-lookup-max NGRAM_PROMPT_LOOKUP_MAX]\n",
      "                             [--ngram-prompt-lookup-min NGRAM_PROMPT_LOOKUP_MIN]\n",
      "                             [--model-loader-extra-config MODEL_LOADER_EXTRA_CONFIG]\n",
      "                             [--served-model-name SERVED_MODEL_NAME [SERVED_MODEL_NAME ...]]\n",
      "                             [--engine-use-ray] [--disable-log-requests]\n",
      "                             [--max-log-len MAX_LOG_LEN]\n",
      "ipykernel_launcher.py: error: unrecognized arguments: -f /home/carson/.local/share/jupyter/runtime/kernel-b742e019-6314-474f-a5a0-26d69826b853.json\n"
     ]
    },
    {
     "ename": "SystemExit",
     "evalue": "2",
     "output_type": "error",
     "traceback": [
      "An exception has occurred, use %tb to see the full traceback.\n",
      "\u001b[0;31mSystemExit\u001b[0m\u001b[0;31m:\u001b[0m 2\n"
     ]
    },
    {
     "name": "stderr",
     "output_type": "stream",
     "text": [
      "/home/carson/Desktop/Projects/empathielabs/venv/lib/python3.11/site-packages/IPython/core/interactiveshell.py:3585: UserWarning: To exit: use 'exit', 'quit', or Ctrl-D.\n",
      "  warn(\"To exit: use 'exit', 'quit', or Ctrl-D.\", stacklevel=1)\n"
     ]
    }
   ],
   "source": [
    "parser = make_arg_parser()\n",
    "\n",
    "parser.parse_args()"
   ]
  },
  {
   "cell_type": "code",
   "execution_count": null,
   "id": "527e63a9-28a3-49f2-b139-0c5e063d13de",
   "metadata": {},
   "outputs": [],
   "source": []
  }
 ],
 "metadata": {
  "kernelspec": {
   "display_name": "Python 3 (ipykernel)",
   "language": "python",
   "name": "python3"
  },
  "language_info": {
   "codemirror_mode": {
    "name": "ipython",
    "version": 3
   },
   "file_extension": ".py",
   "mimetype": "text/x-python",
   "name": "python",
   "nbconvert_exporter": "python",
   "pygments_lexer": "ipython3",
   "version": "3.11.4"
  }
 },
 "nbformat": 4,
 "nbformat_minor": 5
}
